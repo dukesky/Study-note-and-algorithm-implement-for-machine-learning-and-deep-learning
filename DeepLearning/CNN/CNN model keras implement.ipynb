{
 "cells": [
  {
   "cell_type": "code",
   "execution_count": null,
   "metadata": {},
   "outputs": [],
   "source": []
  },
  {
   "cell_type": "code",
   "execution_count": 9,
   "metadata": {},
   "outputs": [],
   "source": [
    "import numpy as np\n",
    "import pandas as ps\n",
    "import sklearn \n",
    "import skimage\n",
    "import tensorflow.keras.datasets as datasets\n",
    "import tensorflow.keras as keras\n",
    "\n",
    "from tensorflow.keras.models import Sequential\n",
    "from tensorflow.keras.layers import Dense, Conv2D, Flatten, MaxPool2D"
   ]
  },
  {
   "cell_type": "markdown",
   "metadata": {},
   "source": [
    "## Training Data\n",
    "- I used the same MNIST dataset"
   ]
  },
  {
   "cell_type": "code",
   "execution_count": 2,
   "metadata": {},
   "outputs": [],
   "source": [
    "(x_train, y_train), (x_test, y_test)=datasets.mnist.load_data(path=\"mnist.npz\")"
   ]
  },
  {
   "cell_type": "code",
   "execution_count": 3,
   "metadata": {},
   "outputs": [
    {
     "data": {
      "text/plain": [
       "(10000, 28, 28)"
      ]
     },
     "execution_count": 3,
     "metadata": {},
     "output_type": "execute_result"
    }
   ],
   "source": [
    "x_test.shape"
   ]
  },
  {
   "cell_type": "markdown",
   "metadata": {},
   "source": [
    "## Build Model"
   ]
  },
  {
   "cell_type": "code",
   "execution_count": null,
   "metadata": {},
   "outputs": [],
   "source": []
  },
  {
   "cell_type": "code",
   "execution_count": 13,
   "metadata": {},
   "outputs": [],
   "source": [
    "#create model\n",
    "model = Sequential()\n",
    "#add model layers\n",
    "model.add(Conv2D(10, kernel_size=3, activation='relu', input_shape=(28,28,1),padding='valid'))\n",
    "model.add(MaxPool2D(pool_size=(2,2)))\n",
    "model.add(Flatten())\n",
    "model.add(Dense(10, activation='softmax'))"
   ]
  },
  {
   "cell_type": "code",
   "execution_count": 14,
   "metadata": {},
   "outputs": [
    {
     "name": "stdout",
     "output_type": "stream",
     "text": [
      "Model: \"sequential_5\"\n",
      "_________________________________________________________________\n",
      "Layer (type)                 Output Shape              Param #   \n",
      "=================================================================\n",
      "conv2d_5 (Conv2D)            (None, 26, 26, 10)        100       \n",
      "_________________________________________________________________\n",
      "max_pooling2d_1 (MaxPooling2 (None, 13, 13, 10)        0         \n",
      "_________________________________________________________________\n",
      "flatten_2 (Flatten)          (None, 1690)              0         \n",
      "_________________________________________________________________\n",
      "dense_2 (Dense)              (None, 10)                16910     \n",
      "=================================================================\n",
      "Total params: 17,010\n",
      "Trainable params: 17,010\n",
      "Non-trainable params: 0\n",
      "_________________________________________________________________\n"
     ]
    }
   ],
   "source": [
    "model.summary()"
   ]
  },
  {
   "cell_type": "code",
   "execution_count": 15,
   "metadata": {},
   "outputs": [],
   "source": [
    "#compile model using accuracy to measure model performance\n",
    "model.compile(optimizer='adam', loss='sparse_categorical_crossentropy', metrics=['accuracy'])"
   ]
  },
  {
   "cell_type": "code",
   "execution_count": null,
   "metadata": {},
   "outputs": [],
   "source": []
  },
  {
   "cell_type": "code",
   "execution_count": 16,
   "metadata": {},
   "outputs": [
    {
     "name": "stdout",
     "output_type": "stream",
     "text": [
      "Train on 60000 samples, validate on 10000 samples\n",
      "Epoch 1/100\n",
      "60000/60000 [==============================] - 8s 139us/sample - loss: 1.1502 - accuracy: 0.9161 - val_loss: 0.2467 - val_accuracy: 0.9509\n",
      "Epoch 2/100\n",
      "60000/60000 [==============================] - 7s 123us/sample - loss: 0.1514 - accuracy: 0.9636 - val_loss: 0.1428 - val_accuracy: 0.9644\n",
      "Epoch 3/100\n",
      "60000/60000 [==============================] - 7s 121us/sample - loss: 0.0973 - accuracy: 0.9726 - val_loss: 0.1078 - val_accuracy: 0.9704\n",
      "Epoch 4/100\n",
      "60000/60000 [==============================] - 7s 121us/sample - loss: 0.0849 - accuracy: 0.9750 - val_loss: 0.1151 - val_accuracy: 0.9700\n",
      "Epoch 5/100\n",
      "60000/60000 [==============================] - 7s 120us/sample - loss: 0.0736 - accuracy: 0.9777 - val_loss: 0.1186 - val_accuracy: 0.9722\n",
      "Epoch 6/100\n",
      "60000/60000 [==============================] - 7s 121us/sample - loss: 0.0667 - accuracy: 0.9792 - val_loss: 0.1161 - val_accuracy: 0.9707\n",
      "Epoch 7/100\n",
      "60000/60000 [==============================] - 7s 121us/sample - loss: 0.0607 - accuracy: 0.9812 - val_loss: 0.1288 - val_accuracy: 0.9712\n",
      "Epoch 8/100\n",
      "60000/60000 [==============================] - 7s 121us/sample - loss: 0.0559 - accuracy: 0.9826 - val_loss: 0.1105 - val_accuracy: 0.9732\n",
      "Epoch 9/100\n",
      "60000/60000 [==============================] - 8s 128us/sample - loss: 0.0474 - accuracy: 0.9856 - val_loss: 0.1356 - val_accuracy: 0.9687\n",
      "Epoch 10/100\n",
      "60000/60000 [==============================] - 8s 126us/sample - loss: 0.0456 - accuracy: 0.9857 - val_loss: 0.1444 - val_accuracy: 0.9713\n",
      "Epoch 11/100\n",
      "60000/60000 [==============================] - 7s 120us/sample - loss: 0.0433 - accuracy: 0.9869 - val_loss: 0.1569 - val_accuracy: 0.9671\n",
      "Epoch 12/100\n",
      "60000/60000 [==============================] - 8s 126us/sample - loss: 0.0416 - accuracy: 0.9875 - val_loss: 0.1630 - val_accuracy: 0.9717\n",
      "Epoch 13/100\n",
      "60000/60000 [==============================] - 7s 121us/sample - loss: 0.0379 - accuracy: 0.9888 - val_loss: 0.1755 - val_accuracy: 0.9701\n",
      "Epoch 14/100\n",
      "60000/60000 [==============================] - 7s 120us/sample - loss: 0.0372 - accuracy: 0.9893 - val_loss: 0.1836 - val_accuracy: 0.9712\n",
      "Epoch 15/100\n",
      "60000/60000 [==============================] - 7s 119us/sample - loss: 0.0370 - accuracy: 0.9897 - val_loss: 0.1968 - val_accuracy: 0.9736\n",
      "Epoch 16/100\n",
      "60000/60000 [==============================] - 7s 117us/sample - loss: 0.0324 - accuracy: 0.9911 - val_loss: 0.2079 - val_accuracy: 0.9724\n",
      "Epoch 17/100\n",
      "60000/60000 [==============================] - 7s 117us/sample - loss: 0.0341 - accuracy: 0.9904 - val_loss: 0.2435 - val_accuracy: 0.9721\n",
      "Epoch 18/100\n",
      "60000/60000 [==============================] - 7s 120us/sample - loss: 0.0330 - accuracy: 0.9916 - val_loss: 0.2560 - val_accuracy: 0.9719\n",
      "Epoch 19/100\n",
      "60000/60000 [==============================] - 7s 119us/sample - loss: 0.0311 - accuracy: 0.9919 - val_loss: 0.2638 - val_accuracy: 0.9704\n",
      "Epoch 20/100\n",
      "60000/60000 [==============================] - 7s 119us/sample - loss: 0.0328 - accuracy: 0.9918 - val_loss: 0.3038 - val_accuracy: 0.9715\n",
      "Epoch 21/100\n",
      "60000/60000 [==============================] - 7s 120us/sample - loss: 0.0315 - accuracy: 0.9926 - val_loss: 0.2875 - val_accuracy: 0.9694\n",
      "Epoch 22/100\n",
      "60000/60000 [==============================] - 7s 119us/sample - loss: 0.0310 - accuracy: 0.9922 - val_loss: 0.2887 - val_accuracy: 0.9735\n",
      "Epoch 23/100\n",
      "60000/60000 [==============================] - 7s 119us/sample - loss: 0.0272 - accuracy: 0.9934 - val_loss: 0.2849 - val_accuracy: 0.9730\n",
      "Epoch 24/100\n",
      "60000/60000 [==============================] - 7s 119us/sample - loss: 0.0281 - accuracy: 0.9932 - val_loss: 0.3769 - val_accuracy: 0.9688\n",
      "Epoch 25/100\n",
      "60000/60000 [==============================] - 7s 120us/sample - loss: 0.0289 - accuracy: 0.9936 - val_loss: 0.3156 - val_accuracy: 0.9735\n",
      "Epoch 26/100\n",
      "60000/60000 [==============================] - 7s 120us/sample - loss: 0.0266 - accuracy: 0.9941 - val_loss: 0.3525 - val_accuracy: 0.9729\n",
      "Epoch 27/100\n",
      "60000/60000 [==============================] - 7s 117us/sample - loss: 0.0263 - accuracy: 0.9940 - val_loss: 0.3334 - val_accuracy: 0.9736\n",
      "Epoch 28/100\n",
      "60000/60000 [==============================] - 7s 118us/sample - loss: 0.0266 - accuracy: 0.9941 - val_loss: 0.3648 - val_accuracy: 0.9752\n",
      "Epoch 29/100\n",
      "60000/60000 [==============================] - 7s 118us/sample - loss: 0.0284 - accuracy: 0.9945 - val_loss: 0.4554 - val_accuracy: 0.9707\n",
      "Epoch 30/100\n",
      "60000/60000 [==============================] - 7s 118us/sample - loss: 0.0282 - accuracy: 0.9944 - val_loss: 0.4617 - val_accuracy: 0.9713\n",
      "Epoch 31/100\n",
      "60000/60000 [==============================] - 7s 120us/sample - loss: 0.0332 - accuracy: 0.9942 - val_loss: 0.4182 - val_accuracy: 0.9724\n",
      "Epoch 32/100\n",
      "60000/60000 [==============================] - 7s 116us/sample - loss: 0.0264 - accuracy: 0.9949 - val_loss: 0.4579 - val_accuracy: 0.9728\n",
      "Epoch 33/100\n",
      "60000/60000 [==============================] - 7s 117us/sample - loss: 0.0278 - accuracy: 0.9946 - val_loss: 0.4768 - val_accuracy: 0.9706\n",
      "Epoch 34/100\n",
      "60000/60000 [==============================] - 7s 118us/sample - loss: 0.0233 - accuracy: 0.9958 - val_loss: 0.4861 - val_accuracy: 0.9716\n",
      "Epoch 35/100\n",
      "60000/60000 [==============================] - 7s 122us/sample - loss: 0.0266 - accuracy: 0.9949 - val_loss: 0.5480 - val_accuracy: 0.9732\n",
      "Epoch 36/100\n",
      "60000/60000 [==============================] - 7s 120us/sample - loss: 0.0299 - accuracy: 0.9947 - val_loss: 0.5155 - val_accuracy: 0.9731\n",
      "Epoch 37/100\n",
      "60000/60000 [==============================] - 7s 117us/sample - loss: 0.0259 - accuracy: 0.9951 - val_loss: 0.5399 - val_accuracy: 0.9719\n",
      "Epoch 38/100\n",
      "60000/60000 [==============================] - 7s 120us/sample - loss: 0.0238 - accuracy: 0.9955 - val_loss: 0.5537 - val_accuracy: 0.9727\n",
      "Epoch 39/100\n",
      "60000/60000 [==============================] - 7s 123us/sample - loss: 0.0261 - accuracy: 0.9957 - val_loss: 0.5719 - val_accuracy: 0.9729\n",
      "Epoch 40/100\n",
      "60000/60000 [==============================] - 7s 124us/sample - loss: 0.0233 - accuracy: 0.9960 - val_loss: 0.6483 - val_accuracy: 0.9710\n",
      "Epoch 41/100\n",
      "60000/60000 [==============================] - 7s 124us/sample - loss: 0.0229 - accuracy: 0.9961 - val_loss: 0.6754 - val_accuracy: 0.9704\n",
      "Epoch 42/100\n",
      "60000/60000 [==============================] - 8s 125us/sample - loss: 0.0241 - accuracy: 0.9959 - val_loss: 0.6751 - val_accuracy: 0.9705\n",
      "Epoch 43/100\n",
      "60000/60000 [==============================] - 7s 122us/sample - loss: 0.0241 - accuracy: 0.9963 - val_loss: 0.6168 - val_accuracy: 0.9736\n",
      "Epoch 44/100\n",
      "60000/60000 [==============================] - 7s 123us/sample - loss: 0.0273 - accuracy: 0.9958 - val_loss: 0.6393 - val_accuracy: 0.9726\n",
      "Epoch 45/100\n",
      "60000/60000 [==============================] - 8s 125us/sample - loss: 0.0243 - accuracy: 0.9963 - val_loss: 0.6386 - val_accuracy: 0.9734\n",
      "Epoch 46/100\n",
      "60000/60000 [==============================] - 7s 124us/sample - loss: 0.0225 - accuracy: 0.9967 - val_loss: 0.6442 - val_accuracy: 0.9717\n",
      "Epoch 47/100\n",
      "60000/60000 [==============================] - 7s 123us/sample - loss: 0.0264 - accuracy: 0.9963 - val_loss: 0.7004 - val_accuracy: 0.9734\n",
      "Epoch 48/100\n",
      "60000/60000 [==============================] - 7s 123us/sample - loss: 0.0245 - accuracy: 0.9964 - val_loss: 0.6908 - val_accuracy: 0.9729\n",
      "Epoch 49/100\n",
      "60000/60000 [==============================] - 7s 122us/sample - loss: 0.0250 - accuracy: 0.9967 - val_loss: 0.7585 - val_accuracy: 0.9739\n",
      "Epoch 50/100\n",
      "60000/60000 [==============================] - 7s 123us/sample - loss: 0.0207 - accuracy: 0.9969 - val_loss: 0.7450 - val_accuracy: 0.9726\n",
      "Epoch 51/100\n",
      "60000/60000 [==============================] - 7s 124us/sample - loss: 0.0278 - accuracy: 0.9962 - val_loss: 0.7896 - val_accuracy: 0.9742\n",
      "Epoch 52/100\n",
      "60000/60000 [==============================] - 8s 125us/sample - loss: 0.0227 - accuracy: 0.9966 - val_loss: 0.7604 - val_accuracy: 0.9734\n",
      "Epoch 53/100\n",
      "60000/60000 [==============================] - 8s 125us/sample - loss: 0.0243 - accuracy: 0.9969 - val_loss: 0.8291 - val_accuracy: 0.9735\n",
      "Epoch 54/100\n"
     ]
    },
    {
     "name": "stdout",
     "output_type": "stream",
     "text": [
      "60000/60000 [==============================] - 7s 123us/sample - loss: 0.0262 - accuracy: 0.9969 - val_loss: 0.8690 - val_accuracy: 0.9747\n",
      "Epoch 55/100\n",
      "60000/60000 [==============================] - 7s 120us/sample - loss: 0.0230 - accuracy: 0.9967 - val_loss: 0.8610 - val_accuracy: 0.9713\n",
      "Epoch 56/100\n",
      "60000/60000 [==============================] - 7s 121us/sample - loss: 0.0220 - accuracy: 0.9971 - val_loss: 0.8895 - val_accuracy: 0.9731\n",
      "Epoch 57/100\n",
      "60000/60000 [==============================] - 7s 124us/sample - loss: 0.0200 - accuracy: 0.9973 - val_loss: 0.9016 - val_accuracy: 0.9730\n",
      "Epoch 58/100\n",
      "60000/60000 [==============================] - 8s 125us/sample - loss: 0.0247 - accuracy: 0.9969 - val_loss: 0.9395 - val_accuracy: 0.9734\n",
      "Epoch 59/100\n",
      "60000/60000 [==============================] - 7s 122us/sample - loss: 0.0214 - accuracy: 0.9975 - val_loss: 0.8695 - val_accuracy: 0.9740\n",
      "Epoch 60/100\n",
      "60000/60000 [==============================] - 7s 123us/sample - loss: 0.0227 - accuracy: 0.9972 - val_loss: 0.9142 - val_accuracy: 0.9731\n",
      "Epoch 61/100\n",
      "60000/60000 [==============================] - 7s 120us/sample - loss: 0.0217 - accuracy: 0.9973 - val_loss: 1.0983 - val_accuracy: 0.9718\n",
      "Epoch 62/100\n",
      "60000/60000 [==============================] - 7s 124us/sample - loss: 0.0254 - accuracy: 0.9974 - val_loss: 0.9336 - val_accuracy: 0.9735\n",
      "Epoch 63/100\n",
      "60000/60000 [==============================] - 7s 121us/sample - loss: 0.0233 - accuracy: 0.9972 - val_loss: 0.9550 - val_accuracy: 0.9744\n",
      "Epoch 64/100\n",
      "60000/60000 [==============================] - 7s 122us/sample - loss: 0.0194 - accuracy: 0.9976 - val_loss: 1.0236 - val_accuracy: 0.9714\n",
      "Epoch 65/100\n",
      "60000/60000 [==============================] - 7s 121us/sample - loss: 0.0209 - accuracy: 0.9973 - val_loss: 1.0645 - val_accuracy: 0.9717\n",
      "Epoch 66/100\n",
      "60000/60000 [==============================] - 7s 122us/sample - loss: 0.0240 - accuracy: 0.9973 - val_loss: 1.1411 - val_accuracy: 0.9728\n",
      "Epoch 67/100\n",
      "60000/60000 [==============================] - 7s 121us/sample - loss: 0.0279 - accuracy: 0.9970 - val_loss: 1.0898 - val_accuracy: 0.9739\n",
      "Epoch 68/100\n",
      "60000/60000 [==============================] - 7s 121us/sample - loss: 0.0174 - accuracy: 0.9978 - val_loss: 1.1800 - val_accuracy: 0.9719\n",
      "Epoch 69/100\n",
      "60000/60000 [==============================] - 7s 124us/sample - loss: 0.0243 - accuracy: 0.9973 - val_loss: 1.0658 - val_accuracy: 0.9742\n",
      "Epoch 70/100\n",
      "60000/60000 [==============================] - 7s 123us/sample - loss: 0.0175 - accuracy: 0.9979 - val_loss: 1.2141 - val_accuracy: 0.9715\n",
      "Epoch 71/100\n",
      "60000/60000 [==============================] - 7s 124us/sample - loss: 0.0273 - accuracy: 0.9971 - val_loss: 1.0977 - val_accuracy: 0.9732\n",
      "Epoch 72/100\n",
      "60000/60000 [==============================] - 7s 122us/sample - loss: 0.0217 - accuracy: 0.9976 - val_loss: 1.2857 - val_accuracy: 0.9722\n",
      "Epoch 73/100\n",
      "60000/60000 [==============================] - 7s 121us/sample - loss: 0.0265 - accuracy: 0.9972 - val_loss: 1.1536 - val_accuracy: 0.9734\n",
      "Epoch 74/100\n",
      "60000/60000 [==============================] - 7s 119us/sample - loss: 0.0204 - accuracy: 0.9978 - val_loss: 1.1792 - val_accuracy: 0.9729\n",
      "Epoch 75/100\n",
      "60000/60000 [==============================] - 7s 120us/sample - loss: 0.0188 - accuracy: 0.9980 - val_loss: 1.1861 - val_accuracy: 0.9745\n",
      "Epoch 76/100\n",
      "60000/60000 [==============================] - 7s 120us/sample - loss: 0.0252 - accuracy: 0.9977 - val_loss: 1.1909 - val_accuracy: 0.9732\n",
      "Epoch 77/100\n",
      "60000/60000 [==============================] - 7s 117us/sample - loss: 0.0220 - accuracy: 0.9977 - val_loss: 1.1838 - val_accuracy: 0.9733\n",
      "Epoch 78/100\n",
      "60000/60000 [==============================] - 7s 117us/sample - loss: 0.0188 - accuracy: 0.9981 - val_loss: 1.1660 - val_accuracy: 0.9745\n",
      "Epoch 79/100\n",
      "60000/60000 [==============================] - 7s 117us/sample - loss: 0.0177 - accuracy: 0.9981 - val_loss: 1.1849 - val_accuracy: 0.9750\n",
      "Epoch 80/100\n",
      "60000/60000 [==============================] - 7s 117us/sample - loss: 0.0281 - accuracy: 0.9978 - val_loss: 1.3630 - val_accuracy: 0.9721\n",
      "Epoch 81/100\n",
      "60000/60000 [==============================] - 7s 119us/sample - loss: 0.0224 - accuracy: 0.9978 - val_loss: 1.3219 - val_accuracy: 0.9727\n",
      "Epoch 82/100\n",
      "60000/60000 [==============================] - 7s 118us/sample - loss: 0.0255 - accuracy: 0.9979 - val_loss: 1.3791 - val_accuracy: 0.9728\n",
      "Epoch 83/100\n",
      "60000/60000 [==============================] - 7s 120us/sample - loss: 0.0206 - accuracy: 0.9980 - val_loss: 1.4627 - val_accuracy: 0.9710\n",
      "Epoch 84/100\n",
      "60000/60000 [==============================] - 7s 119us/sample - loss: 0.0239 - accuracy: 0.9977 - val_loss: 1.4027 - val_accuracy: 0.9729\n",
      "Epoch 85/100\n",
      "60000/60000 [==============================] - 7s 119us/sample - loss: 0.0237 - accuracy: 0.9981 - val_loss: 1.2941 - val_accuracy: 0.9727\n",
      "Epoch 86/100\n",
      "60000/60000 [==============================] - 7s 118us/sample - loss: 0.0242 - accuracy: 0.9979 - val_loss: 1.3162 - val_accuracy: 0.9748\n",
      "Epoch 87/100\n",
      "60000/60000 [==============================] - 7s 118us/sample - loss: 0.0191 - accuracy: 0.9981 - val_loss: 1.4309 - val_accuracy: 0.9718\n",
      "Epoch 88/100\n",
      "60000/60000 [==============================] - 7s 123us/sample - loss: 0.0207 - accuracy: 0.9981 - val_loss: 1.4253 - val_accuracy: 0.9714\n",
      "Epoch 89/100\n",
      "60000/60000 [==============================] - 7s 123us/sample - loss: 0.0208 - accuracy: 0.9981 - val_loss: 1.4189 - val_accuracy: 0.9702\n",
      "Epoch 90/100\n",
      "60000/60000 [==============================] - 7s 122us/sample - loss: 0.0248 - accuracy: 0.9980 - val_loss: 1.4492 - val_accuracy: 0.9740\n",
      "Epoch 91/100\n",
      "60000/60000 [==============================] - 7s 119us/sample - loss: 0.0212 - accuracy: 0.9980 - val_loss: 1.4589 - val_accuracy: 0.9737\n",
      "Epoch 92/100\n",
      "60000/60000 [==============================] - 7s 121us/sample - loss: 0.0220 - accuracy: 0.9981 - val_loss: 1.4848 - val_accuracy: 0.9733\n",
      "Epoch 93/100\n",
      "60000/60000 [==============================] - 7s 120us/sample - loss: 0.0202 - accuracy: 0.9984 - val_loss: 1.6551 - val_accuracy: 0.9725\n",
      "Epoch 94/100\n",
      "60000/60000 [==============================] - 7s 121us/sample - loss: 0.0217 - accuracy: 0.9982 - val_loss: 1.5849 - val_accuracy: 0.9737\n",
      "Epoch 95/100\n",
      "60000/60000 [==============================] - 7s 121us/sample - loss: 0.0258 - accuracy: 0.9980 - val_loss: 1.6041 - val_accuracy: 0.9738\n",
      "Epoch 96/100\n",
      "60000/60000 [==============================] - 7s 119us/sample - loss: 0.0169 - accuracy: 0.9985 - val_loss: 1.6031 - val_accuracy: 0.9715\n",
      "Epoch 97/100\n",
      "60000/60000 [==============================] - 7s 120us/sample - loss: 0.0217 - accuracy: 0.9982 - val_loss: 1.6437 - val_accuracy: 0.9736\n",
      "Epoch 98/100\n",
      "60000/60000 [==============================] - 7s 123us/sample - loss: 0.0188 - accuracy: 0.9984 - val_loss: 1.5896 - val_accuracy: 0.9750\n",
      "Epoch 99/100\n",
      "60000/60000 [==============================] - 7s 121us/sample - loss: 0.0181 - accuracy: 0.9984 - val_loss: 1.5554 - val_accuracy: 0.9731\n",
      "Epoch 100/100\n",
      "60000/60000 [==============================] - 7s 119us/sample - loss: 0.0248 - accuracy: 0.9977 - val_loss: 1.6234 - val_accuracy: 0.9727\n"
     ]
    }
   ],
   "source": [
    "#train the model\n",
    "history = model.fit(x_train.reshape(60000,28,28,1), y_train, validation_data=(x_test.reshape(10000,28,28,1), y_test), epochs=100)"
   ]
  },
  {
   "cell_type": "code",
   "execution_count": 25,
   "metadata": {},
   "outputs": [
    {
     "name": "stdout",
     "output_type": "stream",
     "text": [
      "[[1.8118360e-16 2.5369353e-17 1.2373799e-10 1.0000000e+00 8.4711477e-10\n",
      "  7.6213456e-14 7.5524513e-25 8.1169975e-14 4.0725440e-12 3.8994748e-11]] 3\n"
     ]
    }
   ],
   "source": [
    "print(model.predict(x_test[500].reshape(1,28,28,1)),y_test[500])"
   ]
  }
 ],
 "metadata": {
  "kernelspec": {
   "display_name": "Python 3",
   "language": "python",
   "name": "python3"
  },
  "language_info": {
   "codemirror_mode": {
    "name": "ipython",
    "version": 3
   },
   "file_extension": ".py",
   "mimetype": "text/x-python",
   "name": "python",
   "nbconvert_exporter": "python",
   "pygments_lexer": "ipython3",
   "version": "3.7.7"
  }
 },
 "nbformat": 4,
 "nbformat_minor": 4
}
